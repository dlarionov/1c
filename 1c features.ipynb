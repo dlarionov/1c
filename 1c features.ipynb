{
 "cells": [
  {
   "cell_type": "markdown",
   "metadata": {},
   "source": [
    "# Final Project: How to Win a Data Science Competition\n",
    "# Part 1 - features"
   ]
  },
  {
   "cell_type": "markdown",
   "metadata": {},
   "source": [
    "My pipline is:\n",
    "* load data\n",
    "* heal data and remove outliers\n",
    "* work with shops/items/cats objects and features\n",
    "* create matrix as product of item/shop pairs within each month in the train set\n",
    "* merge shops/items/cats to the matrix\n",
    "* get monthly sales/orders/avg item_price for each item/shop pair in the train set and merge it to the matrix\n",
    "* add mean encoded features to the matrix\n",
    "* merge shops/items/cats to the test set, add date_block_num column = 34\n",
    "* concatinate matrix and test\n",
    "* fill nans for sales and orders columns by 0, fill price by median\n",
    "* add month feature\n",
    "* clip item_cnt_month by (0,20)\n",
    "* add lag features for the [0,1,2,3,4,5,12]th month\n",
    "* fill nans in the same way as above\n",
    "* cut first year\n",
    "* dump matrix to the the file"
   ]
  },
  {
   "cell_type": "markdown",
   "metadata": {},
   "source": [
    "TODO:\n",
    "* add number of months between current item/shop pair and last sold one\n",
    "* add TF-IDF features\n",
    "* create sales and returns columns based on item_cnt_day. sales for > 0 and returns for < 0. then aggregate both and use them as target values (item_sales_cnt_month and item_returns_cnt_month). build two models one for sales and another for returns. merge their predictions as a sum. I supose that predict returns is more easy and another model without returns probably will behave like withour noise. For example if no items were sold in the past means no items will be returned in the future.\n",
    "* create separate model for the shop=12 which is online shop.\n",
    "* try to classify items by is_digital property somehow. digital items should have zero sales on the phisical shops.\n",
    "* try to classify items by is_service property somehow. service is like delivery or repairment.\n",
    "* try to exclude items from test which are not present in the full train and predict zeros for them manualy"
   ]
  },
  {
   "cell_type": "markdown",
   "metadata": {},
   "source": [
    "Does not work:\n",
    "* delta_price and constant_price feature\n",
    "* is_online, is_mall for shops"
   ]
  },
  {
   "cell_type": "code",
   "execution_count": 1,
   "metadata": {
    "_cell_guid": "b1076dfc-b9ad-4769-8c92-a6c4dae69d19",
    "_uuid": "8f2839f25d086af736a60e9eeb907d3b93b6e0e5"
   },
   "outputs": [
    {
     "data": {
      "text/plain": [
       "sys.version_info(major=3, minor=5, micro=4, releaselevel='final', serial=0)"
      ]
     },
     "execution_count": 1,
     "metadata": {},
     "output_type": "execute_result"
    }
   ],
   "source": [
    "import numpy as np\n",
    "import pandas as pd\n",
    "import time\n",
    "import sys\n",
    "\n",
    "from itertools import product\n",
    "from sklearn.preprocessing import LabelEncoder\n",
    "\n",
    "import seaborn as sns\n",
    "import matplotlib.pyplot as plt\n",
    "%matplotlib inline\n",
    "\n",
    "pd.set_option('display.max_rows', 500)\n",
    "pd.set_option('display.max_columns', 100)\n",
    "\n",
    "sys.version_info"
   ]
  },
  {
   "cell_type": "markdown",
   "metadata": {},
   "source": [
    "## Data"
   ]
  },
  {
   "cell_type": "code",
   "execution_count": 2,
   "metadata": {
    "_cell_guid": "79c7e3d0-c299-4dcb-8224-4455121ee9b0",
    "_uuid": "d629ff2d2480ee46fbb7e2d37f6b5fab8052498a",
    "collapsed": true
   },
   "outputs": [],
   "source": [
    "items = pd.read_csv('items.csv')\n",
    "shops = pd.read_csv('shops.csv')\n",
    "cats = pd.read_csv('item_categories.csv')\n",
    "train = pd.read_csv('sales_train.csv.gz', compression='gzip')\n",
    "# I set index to avoid removing ID column later\n",
    "test  = pd.read_csv('test.csv.gz', compression='gzip').set_index('ID') "
   ]
  },
  {
   "cell_type": "markdown",
   "metadata": {},
   "source": [
    "## Outliers"
   ]
  },
  {
   "cell_type": "markdown",
   "metadata": {},
   "source": [
    "There are items with strange prices and sales. After detailed exploration I decided to remove items with price > 100000 and sales > 1001 (1000 is ok)."
   ]
  },
  {
   "cell_type": "code",
   "execution_count": 3,
   "metadata": {},
   "outputs": [
    {
     "data": {
      "text/plain": [
       "<matplotlib.axes._subplots.AxesSubplot at 0x1c09afd0>"
      ]
     },
     "execution_count": 3,
     "metadata": {},
     "output_type": "execute_result"
    },
    {
     "data": {
      "image/png": "[encoded data removed]",
      "text/plain": [
       "<matplotlib.figure.Figure at 0xbe9ec88>"
      ]
     },
     "metadata": {},
     "output_type": "display_data"
    },
    {
     "data": {
      "image/png": "[encoded data removed]",
      "text/plain": [
       "<matplotlib.figure.Figure at 0x6e48a90>"
      ]
     },
     "metadata": {},
     "output_type": "display_data"
    }
   ],
   "source": [
    "plt.figure(figsize=(10,4))\n",
    "plt.xlim(-100, 3000)\n",
    "sns.boxplot(x=train.item_cnt_day)\n",
    "\n",
    "plt.figure(figsize=(10,4))\n",
    "plt.xlim(train.item_price.min(), train.item_price.max()*1.1)\n",
    "sns.boxplot(x=train.item_price)"
   ]
  },
  {
   "cell_type": "code",
   "execution_count": 4,
   "metadata": {
    "_uuid": "7e621535d112603c60aeb2c2f83dbbf96d36b732",
    "collapsed": true
   },
   "outputs": [],
   "source": [
    "train = train[train.item_price<100000]\n",
    "train = train[train.item_cnt_day<1001]"
   ]
  },
  {
   "cell_type": "markdown",
   "metadata": {},
   "source": [
    "There is one item with the price below zero. Fill it with median."
   ]
  },
  {
   "cell_type": "code",
   "execution_count": 5,
   "metadata": {
    "_uuid": "0fc6b90b22fe232f4240ac8f965cc52b3db5526a",
    "collapsed": true
   },
   "outputs": [],
   "source": [
    "median = train[(train.shop_id==32)&(train.item_id==2973)&(train.date_block_num==4)&(train.item_price>0)].item_price.median()\n",
    "train.loc[train.item_price<0, 'item_price'] = median"
   ]
  },
  {
   "cell_type": "markdown",
   "metadata": {},
   "source": [
    "Several shops are duplicates of each other (according to its name). Fix train and test set."
   ]
  },
  {
   "cell_type": "code",
   "execution_count": 6,
   "metadata": {
    "_uuid": "00fe91e9c482ea413abd774ff903fe3d152785dd",
    "collapsed": true
   },
   "outputs": [],
   "source": [
    "# Якутск Орджоникидзе, 56\n",
    "train.loc[train.shop_id == 0, 'shop_id'] = 57\n",
    "test.loc[test.shop_id == 0, 'shop_id'] = 57\n",
    "# Якутск ТЦ \"Центральный\"\n",
    "train.loc[train.shop_id == 1, 'shop_id'] = 58\n",
    "test.loc[test.shop_id == 1, 'shop_id'] = 58\n",
    "# Жуковский ул. Чкалова 39м²\n",
    "train.loc[train.shop_id == 10, 'shop_id'] = 11\n",
    "test.loc[test.shop_id == 10, 'shop_id'] = 11"
   ]
  },
  {
   "cell_type": "markdown",
   "metadata": {},
   "source": [
    "## Shops/Cats/Items\n",
    "Observations:\n",
    "* Each shop_name starts with the city name.\n",
    "* Each category contains type and subtype in its name."
   ]
  },
  {
   "cell_type": "code",
   "execution_count": 7,
   "metadata": {
    "_uuid": "12fae4c8d0c8f3e817307d1e0ffc6831e9a8d696",
    "collapsed": true
   },
   "outputs": [],
   "source": [
    "shops.loc[shops.shop_name == 'Сергиев Посад ТЦ \"7Я\"', 'shop_name'] = 'СергиевПосад ТЦ \"7Я\"'\n",
    "shops['city'] = shops['shop_name'].str.split(' ').map(lambda x: x[0])\n",
    "shops.loc[shops.city == '!Якутск', 'city'] = 'Якутск'\n",
    "shops['city_code'] = LabelEncoder().fit_transform(shops['city'])\n",
    "shops = shops[['shop_id','city_code']]\n",
    "\n",
    "cats['split'] = cats['item_category_name'].str.split('-')\n",
    "cats['type'] = cats['split'].map(lambda x: x[0].strip())\n",
    "cats['type_code'] = LabelEncoder().fit_transform(cats['type'])\n",
    "# if subtype is nan then type\n",
    "cats['subtype'] = cats['split'].map(lambda x: x[1].strip() if len(x) > 1 else x[0].strip())\n",
    "cats['subtype_code'] = LabelEncoder().fit_transform(cats['subtype'])\n",
    "cats = cats[['item_category_id','type_code', 'subtype_code']]\n",
    "\n",
    "items.drop(['item_name'], axis=1, inplace=True)"
   ]
  },
  {
   "cell_type": "markdown",
   "metadata": {},
   "source": [
    "## Monthly sales\n",
    "Test set is a product of some shops and items within 34 month. There are 5100 items * 42 shops = 214200 pairs. 363 items are new compared to train. Hence, for the most of the items in the test set target value should be zero. \n",
    "In the other hand train set contains only pairs which were sold or returned in the past. Tha main idea is to calculate monthly sales and extend it with zero sales for each unique pair within the month. This way train data will be similar to test data.\n",
    "\n",
    "I also tried other strategies\n",
    "* instead of monthly product use full time product of date_block_num, train.shop_id and test.shop_id, train.item_id and test.shop_id. I supose this way mean encodings wokrs better but the final matrix is to huge for my PC.\n",
    "* append test.item_id and test.shop_id to each month product"
   ]
  },
  {
   "cell_type": "code",
   "execution_count": 8,
   "metadata": {},
   "outputs": [
    {
     "data": {
      "text/plain": [
       "(363, 5100, 214200)"
      ]
     },
     "execution_count": 8,
     "metadata": {},
     "output_type": "execute_result"
    }
   ],
   "source": [
    "len(list(set(test.item_id) - set(test.item_id).intersection(set(train.item_id)))), len(list(set(test.item_id))), len(test)"
   ]
  },
  {
   "cell_type": "code",
   "execution_count": 9,
   "metadata": {
    "_uuid": "7626c7455ea71b65894c6c866519df15080fa2ac"
   },
   "outputs": [
    {
     "data": {
      "text/plain": [
       "10.574439764022827"
      ]
     },
     "execution_count": 9,
     "metadata": {},
     "output_type": "execute_result"
    }
   ],
   "source": [
    "ts = time.time()\n",
    "matrix = []\n",
    "cols = ['date_block_num','shop_id','item_id']\n",
    "for i in range(34):\n",
    "    sales = train[train.date_block_num==i]\n",
    "    #unique_shops = sales.shop_id.append(test.shop_id).unique()\n",
    "    #unique_items = sales.item_id.append(test.item_id).unique()\n",
    "    matrix.append(np.array(list(product([i], sales.shop_id.unique(), sales.item_id.unique())), dtype='int16'))\n",
    "    \n",
    "matrix = pd.DataFrame(np.vstack(matrix), columns=cols)\n",
    "matrix['date_block_num'] = matrix['date_block_num'].astype(np.int8)\n",
    "matrix['shop_id'] = matrix['shop_id'].astype(np.int8)\n",
    "matrix['item_id'] = matrix['item_id'].astype(np.int16)\n",
    "matrix.sort_values(cols,inplace=True)\n",
    "time.time() - ts"
   ]
  },
  {
   "cell_type": "markdown",
   "metadata": {},
   "source": [
    "Merge matrix with shops items and cats. I always check and downcast column types to increase the perfomance."
   ]
  },
  {
   "cell_type": "code",
   "execution_count": 10,
   "metadata": {
    "_uuid": "61f4615325d00ff4396ebc72d8b9b630eca5b1cf"
   },
   "outputs": [
    {
     "data": {
      "text/plain": [
       "4.494239568710327"
      ]
     },
     "execution_count": 10,
     "metadata": {},
     "output_type": "execute_result"
    }
   ],
   "source": [
    "ts = time.time()\n",
    "matrix = pd.merge(matrix, shops, on=['shop_id'], how='left')\n",
    "matrix = pd.merge(matrix, items, on=['item_id'], how='left')\n",
    "matrix = pd.merge(matrix, cats, on=['item_category_id'], how='left')\n",
    "matrix['city_code'] = matrix['city_code'].astype(np.int8)\n",
    "matrix['item_category_id'] = matrix['item_category_id'].astype(np.int8)\n",
    "matrix['type_code'] = matrix['type_code'].astype(np.int8)\n",
    "matrix['subtype_code'] = matrix['subtype_code'].astype(np.int8)\n",
    "time.time() - ts"
   ]
  },
  {
   "cell_type": "markdown",
   "metadata": {},
   "source": [
    "I decided to aggregate train set by shop/item pairs to calculate sales sum and count and also by item only to calculate avg item price (it allows to avoid nulls). I use these properties as targets when apply mean encodings.\n",
    "\n",
    "<b>NB</b> I use floats instead of ints for item_cnt_month and orders to avoid downcasting it after concatination with the test set later. If it would be int16, after concatination with NaN values it becomes int64, but foat16 becomes float16 even with NaNs."
   ]
  },
  {
   "cell_type": "code",
   "execution_count": 11,
   "metadata": {
    "_uuid": "7dd27181918fc7df89676e24d72130d183929d2d"
   },
   "outputs": [
    {
     "data": {
      "text/plain": [
       "4.794825077056885"
      ]
     },
     "execution_count": 11,
     "metadata": {},
     "output_type": "execute_result"
    }
   ],
   "source": [
    "ts = time.time()\n",
    "group = train.groupby(['date_block_num','shop_id','item_id']).agg({\n",
    "    'item_cnt_day': ['sum', 'count']\n",
    "})\n",
    "group.columns = ['item_cnt_month', 'orders']\n",
    "group.reset_index(inplace=True)\n",
    "\n",
    "matrix = pd.merge(matrix, group, on=cols, how='left')\n",
    "matrix['item_cnt_month'] = (matrix['item_cnt_month']\n",
    "                                .fillna(0)\n",
    "                                #.clip(0,20) # TODO try to clip before mean encodings\n",
    "                                .astype(np.float16))\n",
    "matrix['orders'] = matrix['orders'].fillna(0).astype(np.float16)\n",
    "time.time() - ts"
   ]
  },
  {
   "cell_type": "code",
   "execution_count": 12,
   "metadata": {},
   "outputs": [
    {
     "data": {
      "text/plain": [
       "2.650207281112671"
      ]
     },
     "execution_count": 12,
     "metadata": {},
     "output_type": "execute_result"
    }
   ],
   "source": [
    "ts = time.time()\n",
    "group = train.groupby(['date_block_num','item_id']).agg({'item_price': ['mean']})\n",
    "group.columns = ['item_price']\n",
    "group.reset_index(inplace=True)\n",
    "\n",
    "matrix = pd.merge(matrix, group, on=['date_block_num','item_id'], how='left')\n",
    "matrix['item_price'] = matrix['item_price'].astype(np.float32) \n",
    "time.time() - ts"
   ]
  },
  {
   "cell_type": "code",
   "execution_count": 13,
   "metadata": {},
   "outputs": [
    {
     "data": {
      "text/plain": [
       "date_block_num      False\n",
       "shop_id             False\n",
       "item_id             False\n",
       "city_code           False\n",
       "item_category_id    False\n",
       "type_code           False\n",
       "subtype_code        False\n",
       "item_cnt_month      False\n",
       "orders              False\n",
       "item_price          False\n",
       "dtype: bool"
      ]
     },
     "execution_count": 13,
     "metadata": {},
     "output_type": "execute_result"
    }
   ],
   "source": [
    "matrix.isnull().any()"
   ]
  },
  {
   "cell_type": "markdown",
   "metadata": {},
   "source": [
    "## Mean encoded features"
   ]
  },
  {
   "cell_type": "code",
   "execution_count": 14,
   "metadata": {
    "_uuid": "fc9166c4e678ebb99d03566f1751b7d4b5c690d2"
   },
   "outputs": [
    {
     "data": {
      "text/plain": [
       "4.172013759613037"
      ]
     },
     "execution_count": 14,
     "metadata": {},
     "output_type": "execute_result"
    }
   ],
   "source": [
    "ts = time.time()\n",
    "group = matrix.groupby(['date_block_num', 'item_id']).agg({\n",
    "    'item_cnt_month': ['mean'],\n",
    "    'orders': ['sum'],\n",
    "    'item_price': ['mean']\n",
    "})\n",
    "group.columns = [ 'date_item_avg_item_cnt', 'date_item_sum_orders', 'date_item_avg_item_price' ]\n",
    "group.reset_index(inplace=True)\n",
    "\n",
    "matrix = pd.merge(matrix, group, on=['date_block_num','item_id'], how='left')\n",
    "matrix['date_item_avg_item_cnt'] = matrix['date_item_avg_item_cnt'].astype(np.float16)\n",
    "matrix['date_item_sum_orders'] = matrix['date_item_sum_orders'].astype(np.float16)\n",
    "matrix['date_item_avg_item_price'] = matrix['date_item_avg_item_price'].astype(np.float32)\n",
    "time.time() - ts"
   ]
  },
  {
   "cell_type": "code",
   "execution_count": 15,
   "metadata": {
    "_uuid": "77cd35149f988380d94fab666e9fd8ba7b704907"
   },
   "outputs": [
    {
     "data": {
      "text/plain": [
       "6.338844299316406"
      ]
     },
     "execution_count": 15,
     "metadata": {},
     "output_type": "execute_result"
    }
   ],
   "source": [
    "ts = time.time()\n",
    "group = matrix.groupby(['shop_id', 'item_id']).agg({\n",
    "    'item_cnt_month': ['mean'],\n",
    "    'orders': ['sum'],\n",
    "    'item_price': ['mean']\n",
    "})\n",
    "group.columns = [ 'shop_item_avg_item_cnt', 'shop_item_sum_orders', 'shop_item_avg_item_price' ]\n",
    "group.reset_index(inplace=True)\n",
    "\n",
    "matrix = pd.merge(matrix, group, on=['shop_id','item_id'], how='left')\n",
    "matrix['shop_item_avg_item_cnt'] = matrix['shop_item_avg_item_cnt'].astype(np.float16)\n",
    "matrix['shop_item_sum_orders'] = matrix['shop_item_sum_orders'].astype(np.float16)\n",
    "matrix['shop_item_avg_item_price'] = matrix['shop_item_avg_item_price'].astype(np.float32)\n",
    "time.time() - ts"
   ]
  },
  {
   "cell_type": "code",
   "execution_count": 16,
   "metadata": {
    "_uuid": "e8ec52f6b51ac69c39a3ceece43077ee472e9bf6"
   },
   "outputs": [
    {
     "data": {
      "text/plain": [
       "3.726497173309326"
      ]
     },
     "execution_count": 16,
     "metadata": {},
     "output_type": "execute_result"
    }
   ],
   "source": [
    "ts = time.time()\n",
    "group = matrix.groupby(['date_block_num', 'shop_id']).agg({\n",
    "    'item_cnt_month': ['mean'],\n",
    "    'orders': ['sum'],\n",
    "    'item_price': ['mean']\n",
    "})\n",
    "group.columns = [ 'date_shop_avg_item_cnt', 'date_shop_sum_orders', 'date_shop_avg_item_price' ]\n",
    "group.reset_index(inplace=True)\n",
    "\n",
    "matrix = pd.merge(matrix, group, on=['date_block_num','shop_id'], how='left')\n",
    "matrix['date_shop_avg_item_cnt'] = matrix['date_shop_avg_item_cnt'].astype(np.float16)\n",
    "matrix['date_shop_sum_orders'] = matrix['date_shop_sum_orders'].astype(np.float16)\n",
    "matrix['date_shop_avg_item_price'] = matrix['date_shop_avg_item_price'].astype(np.float32)\n",
    "time.time() - ts"
   ]
  },
  {
   "cell_type": "code",
   "execution_count": 17,
   "metadata": {
    "_uuid": "1c89d2aaefd56054161ae1f58ea003cc312027d7"
   },
   "outputs": [
    {
     "data": {
      "text/plain": [
       "3.801410675048828"
      ]
     },
     "execution_count": 17,
     "metadata": {},
     "output_type": "execute_result"
    }
   ],
   "source": [
    "ts = time.time()\n",
    "group = matrix.groupby(['date_block_num', 'item_category_id']).agg({\n",
    "    'item_cnt_month': ['mean'],\n",
    "    'orders': ['sum'],\n",
    "    'item_price': ['mean']\n",
    "})\n",
    "group.columns = [ 'date_cat_avg_item_cnt', 'date_cat_sum_orders', 'date_cat_avg_item_price' ]\n",
    "group.reset_index(inplace=True)\n",
    "\n",
    "matrix = pd.merge(matrix, group, on=['date_block_num','item_category_id'], how='left')\n",
    "matrix['date_cat_avg_item_cnt'] = matrix['date_cat_avg_item_cnt'].astype(np.float16)\n",
    "matrix['date_cat_sum_orders'] = matrix['date_cat_sum_orders'].astype(np.float16)\n",
    "matrix['date_cat_avg_item_price'] = matrix['date_cat_avg_item_price'].astype(np.float32)\n",
    "time.time() - ts"
   ]
  },
  {
   "cell_type": "code",
   "execution_count": 18,
   "metadata": {
    "_uuid": "9eb3dcb2698f0828f5a0b3d6566581cb381d8866"
   },
   "outputs": [
    {
     "data": {
      "text/plain": [
       "10.706024169921875"
      ]
     },
     "execution_count": 18,
     "metadata": {},
     "output_type": "execute_result"
    }
   ],
   "source": [
    "ts = time.time()\n",
    "group = matrix.groupby(['date_block_num', 'item_id', 'city_code']).agg({\n",
    "    'item_cnt_month': ['mean']\n",
    "})\n",
    "group.columns = [ 'date_item_city_avg_item_cnt' ]\n",
    "group.reset_index(inplace=True)\n",
    "\n",
    "matrix = pd.merge(matrix, group, on=['date_block_num','item_id','city_code'], how='left')\n",
    "matrix['date_item_city_avg_item_cnt'] = matrix['date_item_city_avg_item_cnt'].astype(np.float16)\n",
    "time.time() - ts"
   ]
  },
  {
   "cell_type": "code",
   "execution_count": 19,
   "metadata": {
    "_uuid": "9edc6ee6d0813f8da74e507ea4598dcc062eec1a"
   },
   "outputs": [
    {
     "data": {
      "text/plain": [
       "4.492411375045776"
      ]
     },
     "execution_count": 19,
     "metadata": {},
     "output_type": "execute_result"
    }
   ],
   "source": [
    "ts = time.time()\n",
    "group = matrix.groupby(['date_block_num', 'shop_id', 'type_code']).agg({\n",
    "    'item_cnt_month': ['mean']\n",
    "})\n",
    "group.columns = [ 'date_shop_type_avg_item_cnt' ]\n",
    "group.reset_index(inplace=True)\n",
    "\n",
    "matrix = pd.merge(matrix, group, on=['date_block_num','shop_id','type_code'], how='left')\n",
    "matrix['date_shop_type_avg_item_cnt'] = matrix['date_shop_type_avg_item_cnt'].astype(np.float16)\n",
    "time.time() - ts"
   ]
  },
  {
   "cell_type": "code",
   "execution_count": 20,
   "metadata": {
    "_uuid": "862e9729589edfafa73eb117075e07683c827ddf"
   },
   "outputs": [
    {
     "data": {
      "text/plain": [
       "5.840815782546997"
      ]
     },
     "execution_count": 20,
     "metadata": {},
     "output_type": "execute_result"
    }
   ],
   "source": [
    "ts = time.time()\n",
    "group = matrix.groupby(['date_block_num', 'shop_id', 'subtype_code']).agg({\n",
    "    'item_cnt_month': ['mean']\n",
    "})\n",
    "group.columns = [ 'date_shop_subtype_avg_item_cnt' ]\n",
    "group.reset_index(inplace=True)\n",
    "\n",
    "matrix = pd.merge(matrix, group, on=['date_block_num','shop_id','subtype_code'], how='left')\n",
    "matrix['date_shop_subtype_avg_item_cnt'] = matrix['date_shop_subtype_avg_item_cnt'].astype(np.float16)\n",
    "time.time() - ts"
   ]
  },
  {
   "cell_type": "markdown",
   "metadata": {},
   "source": [
    "Clip item_cnt_month befor making lag features but after mean encodings."
   ]
  },
  {
   "cell_type": "code",
   "execution_count": 21,
   "metadata": {
    "collapsed": true
   },
   "outputs": [],
   "source": [
    "matrix['item_cnt_month'] = matrix['item_cnt_month'].clip(0, 20)"
   ]
  },
  {
   "cell_type": "markdown",
   "metadata": {},
   "source": [
    "## Lag features\n",
    "To create lag features add all the item/cat/shop based columns to the test set and concatenate it with the matrix. All computed columns will have NaN values for 34 month. Fill them with zeros."
   ]
  },
  {
   "cell_type": "code",
   "execution_count": 22,
   "metadata": {
    "_uuid": "49c694fd908d7aa37ba43c961f522307ee16b544",
    "collapsed": true
   },
   "outputs": [],
   "source": [
    "test['date_block_num'] = 34\n",
    "test = pd.merge(test, shops, on='shop_id', how='left')\n",
    "test = pd.merge(test, items, on='item_id', how='left')\n",
    "test = pd.merge(test, cats, on='item_category_id', how='left')\n",
    "test['date_block_num'] = test['date_block_num'].astype(np.int8)\n",
    "test['shop_id'] = test['shop_id'].astype(np.int8)\n",
    "test['item_id'] = test['item_id'].astype(np.int16)\n",
    "test['city_code'] = test['city_code'].astype(np.int8)\n",
    "test['item_category_id'] = test['item_category_id'].astype(np.int8)\n",
    "test['type_code'] = test['type_code'].astype(np.int8)\n",
    "test['subtype_code'] = test['subtype_code'].astype(np.int8)"
   ]
  },
  {
   "cell_type": "code",
   "execution_count": 23,
   "metadata": {
    "_uuid": "5b44e42af3168d8e9128d67774e484cc6fd69760"
   },
   "outputs": [
    {
     "data": {
      "text/plain": [
       "1.9178078174591064"
      ]
     },
     "execution_count": 23,
     "metadata": {},
     "output_type": "execute_result"
    }
   ],
   "source": [
    "ts = time.time()\n",
    "matrix = pd.concat([matrix, test], ignore_index=True, keys=cols)\n",
    "matrix.fillna(0, inplace=True)\n",
    "time.time() - ts"
   ]
  },
  {
   "cell_type": "markdown",
   "metadata": {},
   "source": [
    "Foreach lag create a copy of matrix, shift it by lag value and merge it back to original matrix. Avoid lags for item/shop/cat features. This is the most memory and time consuming operation."
   ]
  },
  {
   "cell_type": "code",
   "execution_count": 24,
   "metadata": {
    "_uuid": "ed0bcfd2ec243c970dd3ce730ecab1f240c7cb85"
   },
   "outputs": [
    {
     "data": {
      "text/plain": [
       "72.77930092811584"
      ]
     },
     "execution_count": 24,
     "metadata": {},
     "output_type": "execute_result"
    }
   ],
   "source": [
    "ts = time.time()\n",
    "def shift(df, month):\n",
    "    copy = df.drop(['city_code','item_category_id','type_code','subtype_code'], axis=1)\n",
    "    copy['date_block_num'] += month\n",
    "    return copy\n",
    "\n",
    "data = matrix\n",
    "lags = [1, 2, 3, 4, 5, 12]\n",
    "for i in lags:\n",
    "    data = pd.merge(data, shift(matrix, i), on=['date_block_num','shop_id','item_id'], how='left',  suffixes=['', '_'+str(i)])\n",
    "\n",
    "time.time() - ts"
   ]
  },
  {
   "cell_type": "markdown",
   "metadata": {},
   "source": [
    "Because of the using 12 as lag value drop first 12 months. Also drop all the columns with this month calculated values (other words which can not be calcucated for the test set)."
   ]
  },
  {
   "cell_type": "code",
   "execution_count": 25,
   "metadata": {
    "_uuid": "06828141d30b712880dcabca2d038eebed3296c9"
   },
   "outputs": [
    {
     "data": {
      "text/plain": [
       "6.277413845062256"
      ]
     },
     "execution_count": 25,
     "metadata": {},
     "output_type": "execute_result"
    }
   ],
   "source": [
    "ts = time.time()\n",
    "data = data[data.date_block_num > 11]\n",
    "data.drop(['orders', 'item_price',\n",
    "       'date_item_avg_item_cnt', 'date_item_sum_orders',\n",
    "       'date_item_avg_item_price', 'shop_item_avg_item_cnt',\n",
    "       'shop_item_sum_orders', 'shop_item_avg_item_price',\n",
    "       'date_shop_avg_item_cnt', 'date_shop_sum_orders',\n",
    "       'date_shop_avg_item_price', 'date_cat_avg_item_cnt',\n",
    "       'date_cat_sum_orders', 'date_cat_avg_item_price',\n",
    "       'date_item_city_avg_item_cnt', 'date_shop_type_avg_item_cnt',\n",
    "       'date_shop_subtype_avg_item_cnt'], axis=1, inplace=True)\n",
    "time.time() - ts"
   ]
  },
  {
   "cell_type": "markdown",
   "metadata": {},
   "source": [
    "Producing lag features also brings a lot of nulls. Deal with them."
   ]
  },
  {
   "cell_type": "code",
   "execution_count": 26,
   "metadata": {
    "_uuid": "a7909776d135737a0318da17c2fb897946b3b739"
   },
   "outputs": [
    {
     "data": {
      "text/plain": [
       "10.655819416046143"
      ]
     },
     "execution_count": 26,
     "metadata": {},
     "output_type": "execute_result"
    }
   ],
   "source": [
    "ts = time.time()\n",
    "def fill_na(df):\n",
    "    for col in df.columns:\n",
    "        if df[col].isnull().any():\n",
    "            if ('item_cnt' in col):\n",
    "                df[col].fillna(0, inplace=True)\n",
    "            if ('orders' in col):\n",
    "                df[col].fillna(0, inplace=True)\n",
    "            if ('item_price' in col):\n",
    "                df[col].fillna(df[col].median(), inplace=True)\n",
    "    return df\n",
    "\n",
    "data = fill_na(data)\n",
    "time.time() - ts"
   ]
  },
  {
   "cell_type": "markdown",
   "metadata": {},
   "source": [
    "## Special features"
   ]
  },
  {
   "cell_type": "code",
   "execution_count": 27,
   "metadata": {
    "collapsed": true
   },
   "outputs": [],
   "source": [
    "matrix['month'] = matrix['date_block_num'] % 12 + 1"
   ]
  },
  {
   "cell_type": "code",
   "execution_count": 28,
   "metadata": {},
   "outputs": [
    {
     "data": {
      "text/html": [
       "<div>\n",
       "<style>\n",
       "    .dataframe thead tr:only-child th {\n",
       "        text-align: right;\n",
       "    }\n",
       "\n",
       "    .dataframe thead th {\n",
       "        text-align: left;\n",
       "    }\n",
       "\n",
       "    .dataframe tbody tr th {\n",
       "        vertical-align: top;\n",
       "    }\n",
       "</style>\n",
       "<table border=\"1\" class=\"dataframe\">\n",
       "  <thead>\n",
       "    <tr style=\"text-align: right;\">\n",
       "      <th></th>\n",
       "      <th>city_code</th>\n",
       "      <th>date_block_num</th>\n",
       "      <th>date_cat_avg_item_cnt</th>\n",
       "      <th>date_cat_avg_item_price</th>\n",
       "      <th>date_cat_sum_orders</th>\n",
       "      <th>date_item_avg_item_cnt</th>\n",
       "      <th>date_item_avg_item_price</th>\n",
       "      <th>date_item_city_avg_item_cnt</th>\n",
       "      <th>date_item_sum_orders</th>\n",
       "      <th>date_shop_avg_item_cnt</th>\n",
       "      <th>date_shop_avg_item_price</th>\n",
       "      <th>date_shop_subtype_avg_item_cnt</th>\n",
       "      <th>date_shop_sum_orders</th>\n",
       "      <th>date_shop_type_avg_item_cnt</th>\n",
       "      <th>item_category_id</th>\n",
       "      <th>item_cnt_month</th>\n",
       "      <th>item_id</th>\n",
       "      <th>item_price</th>\n",
       "      <th>orders</th>\n",
       "      <th>shop_id</th>\n",
       "      <th>shop_item_avg_item_cnt</th>\n",
       "      <th>shop_item_avg_item_price</th>\n",
       "      <th>shop_item_sum_orders</th>\n",
       "      <th>subtype_code</th>\n",
       "      <th>type_code</th>\n",
       "      <th>month</th>\n",
       "    </tr>\n",
       "  </thead>\n",
       "  <tbody>\n",
       "    <tr>\n",
       "      <th>0</th>\n",
       "      <td>0</td>\n",
       "      <td>0</td>\n",
       "      <td>0.310791</td>\n",
       "      <td>29232.0</td>\n",
       "      <td>195.375</td>\n",
       "      <td>0.022217</td>\n",
       "      <td>1.0</td>\n",
       "      <td>0.0</td>\n",
       "      <td>28.0</td>\n",
       "      <td>0.141235</td>\n",
       "      <td>1071.0</td>\n",
       "      <td>0.073120</td>\n",
       "      <td>567.5</td>\n",
       "      <td>0.073853</td>\n",
       "      <td>40</td>\n",
       "      <td>0.0</td>\n",
       "      <td>19</td>\n",
       "      <td>28.000000</td>\n",
       "      <td>0.0</td>\n",
       "      <td>2</td>\n",
       "      <td>0.000000</td>\n",
       "      <td>0.0</td>\n",
       "      <td>28.0</td>\n",
       "      <td>4</td>\n",
       "      <td>11</td>\n",
       "      <td>1</td>\n",
       "    </tr>\n",
       "    <tr>\n",
       "      <th>1</th>\n",
       "      <td>0</td>\n",
       "      <td>0</td>\n",
       "      <td>0.849609</td>\n",
       "      <td>7936.0</td>\n",
       "      <td>1376.000</td>\n",
       "      <td>0.155518</td>\n",
       "      <td>7.0</td>\n",
       "      <td>1.0</td>\n",
       "      <td>2324.0</td>\n",
       "      <td>0.141235</td>\n",
       "      <td>1071.0</td>\n",
       "      <td>0.515625</td>\n",
       "      <td>567.5</td>\n",
       "      <td>0.427002</td>\n",
       "      <td>19</td>\n",
       "      <td>1.0</td>\n",
       "      <td>27</td>\n",
       "      <td>2325.000000</td>\n",
       "      <td>1.0</td>\n",
       "      <td>2</td>\n",
       "      <td>0.125000</td>\n",
       "      <td>2.0</td>\n",
       "      <td>1340.0</td>\n",
       "      <td>10</td>\n",
       "      <td>5</td>\n",
       "      <td>1</td>\n",
       "    </tr>\n",
       "    <tr>\n",
       "      <th>2</th>\n",
       "      <td>0</td>\n",
       "      <td>0</td>\n",
       "      <td>1.189453</td>\n",
       "      <td>18544.0</td>\n",
       "      <td>284.500</td>\n",
       "      <td>0.177734</td>\n",
       "      <td>8.0</td>\n",
       "      <td>0.0</td>\n",
       "      <td>549.0</td>\n",
       "      <td>0.141235</td>\n",
       "      <td>1071.0</td>\n",
       "      <td>0.537109</td>\n",
       "      <td>567.5</td>\n",
       "      <td>0.505859</td>\n",
       "      <td>30</td>\n",
       "      <td>0.0</td>\n",
       "      <td>28</td>\n",
       "      <td>549.000000</td>\n",
       "      <td>0.0</td>\n",
       "      <td>2</td>\n",
       "      <td>0.000000</td>\n",
       "      <td>0.0</td>\n",
       "      <td>303.5</td>\n",
       "      <td>55</td>\n",
       "      <td>8</td>\n",
       "      <td>1</td>\n",
       "    </tr>\n",
       "    <tr>\n",
       "      <th>3</th>\n",
       "      <td>0</td>\n",
       "      <td>0</td>\n",
       "      <td>0.548828</td>\n",
       "      <td>3842.0</td>\n",
       "      <td>1620.000</td>\n",
       "      <td>0.088867</td>\n",
       "      <td>6.0</td>\n",
       "      <td>0.0</td>\n",
       "      <td>2398.0</td>\n",
       "      <td>0.141235</td>\n",
       "      <td>1071.0</td>\n",
       "      <td>0.260986</td>\n",
       "      <td>567.5</td>\n",
       "      <td>0.427002</td>\n",
       "      <td>23</td>\n",
       "      <td>0.0</td>\n",
       "      <td>29</td>\n",
       "      <td>2397.500000</td>\n",
       "      <td>0.0</td>\n",
       "      <td>2</td>\n",
       "      <td>0.000000</td>\n",
       "      <td>0.0</td>\n",
       "      <td>1467.0</td>\n",
       "      <td>16</td>\n",
       "      <td>5</td>\n",
       "      <td>1</td>\n",
       "    </tr>\n",
       "    <tr>\n",
       "      <th>4</th>\n",
       "      <td>0</td>\n",
       "      <td>0</td>\n",
       "      <td>0.310791</td>\n",
       "      <td>29232.0</td>\n",
       "      <td>195.375</td>\n",
       "      <td>6.644531</td>\n",
       "      <td>225.0</td>\n",
       "      <td>0.0</td>\n",
       "      <td>338.0</td>\n",
       "      <td>0.141235</td>\n",
       "      <td>1071.0</td>\n",
       "      <td>0.073120</td>\n",
       "      <td>567.5</td>\n",
       "      <td>0.073853</td>\n",
       "      <td>40</td>\n",
       "      <td>0.0</td>\n",
       "      <td>32</td>\n",
       "      <td>338.110352</td>\n",
       "      <td>0.0</td>\n",
       "      <td>2</td>\n",
       "      <td>0.323486</td>\n",
       "      <td>11.0</td>\n",
       "      <td>199.5</td>\n",
       "      <td>4</td>\n",
       "      <td>11</td>\n",
       "      <td>1</td>\n",
       "    </tr>\n",
       "  </tbody>\n",
       "</table>\n",
       "</div>"
      ],
      "text/plain": [
       "   city_code  date_block_num  date_cat_avg_item_cnt  date_cat_avg_item_price  \\\n",
       "0          0               0               0.310791                  29232.0   \n",
       "1          0               0               0.849609                   7936.0   \n",
       "2          0               0               1.189453                  18544.0   \n",
       "3          0               0               0.548828                   3842.0   \n",
       "4          0               0               0.310791                  29232.0   \n",
       "\n",
       "   date_cat_sum_orders  date_item_avg_item_cnt  date_item_avg_item_price  \\\n",
       "0              195.375                0.022217                       1.0   \n",
       "1             1376.000                0.155518                       7.0   \n",
       "2              284.500                0.177734                       8.0   \n",
       "3             1620.000                0.088867                       6.0   \n",
       "4              195.375                6.644531                     225.0   \n",
       "\n",
       "   date_item_city_avg_item_cnt  date_item_sum_orders  date_shop_avg_item_cnt  \\\n",
       "0                          0.0                  28.0                0.141235   \n",
       "1                          1.0                2324.0                0.141235   \n",
       "2                          0.0                 549.0                0.141235   \n",
       "3                          0.0                2398.0                0.141235   \n",
       "4                          0.0                 338.0                0.141235   \n",
       "\n",
       "   date_shop_avg_item_price  date_shop_subtype_avg_item_cnt  \\\n",
       "0                    1071.0                        0.073120   \n",
       "1                    1071.0                        0.515625   \n",
       "2                    1071.0                        0.537109   \n",
       "3                    1071.0                        0.260986   \n",
       "4                    1071.0                        0.073120   \n",
       "\n",
       "   date_shop_sum_orders  date_shop_type_avg_item_cnt  item_category_id  \\\n",
       "0                 567.5                     0.073853                40   \n",
       "1                 567.5                     0.427002                19   \n",
       "2                 567.5                     0.505859                30   \n",
       "3                 567.5                     0.427002                23   \n",
       "4                 567.5                     0.073853                40   \n",
       "\n",
       "   item_cnt_month  item_id   item_price  orders  shop_id  \\\n",
       "0             0.0       19    28.000000     0.0        2   \n",
       "1             1.0       27  2325.000000     1.0        2   \n",
       "2             0.0       28   549.000000     0.0        2   \n",
       "3             0.0       29  2397.500000     0.0        2   \n",
       "4             0.0       32   338.110352     0.0        2   \n",
       "\n",
       "   shop_item_avg_item_cnt  shop_item_avg_item_price  shop_item_sum_orders  \\\n",
       "0                0.000000                       0.0                  28.0   \n",
       "1                0.125000                       2.0                1340.0   \n",
       "2                0.000000                       0.0                 303.5   \n",
       "3                0.000000                       0.0                1467.0   \n",
       "4                0.323486                      11.0                 199.5   \n",
       "\n",
       "   subtype_code  type_code  month  \n",
       "0             4         11      1  \n",
       "1            10          5      1  \n",
       "2            55          8      1  \n",
       "3            16          5      1  \n",
       "4             4         11      1  "
      ]
     },
     "execution_count": 28,
     "metadata": {},
     "output_type": "execute_result"
    }
   ],
   "source": [
    "matrix.head()"
   ]
  },
  {
   "cell_type": "code",
   "execution_count": 30,
   "metadata": {},
   "outputs": [
    {
     "data": {
      "text/plain": [
       "981.9509220123291"
      ]
     },
     "execution_count": 30,
     "metadata": {},
     "output_type": "execute_result"
    }
   ],
   "source": [
    "ts = time.time()\n",
    "cache = {}\n",
    "matrix['last_month'] = 999\n",
    "for idx, row in matrix.iterrows():    \n",
    "    key = str(row.item_id)+' '+str(row.shop_id)\n",
    "    if key not in cache:\n",
    "        if row.item_cnt_month > 0:\n",
    "            cache[key] = row.date_block_num\n",
    "    else:\n",
    "        last_date_block_num = cache[key]\n",
    "        matrix.set_value(idx, 'last_month', row.date_block_num - last_date_block_num)\n",
    "        cache[key] = row.date_block_num\n",
    "            \n",
    "time.time() - ts"
   ]
  },
  {
   "cell_type": "code",
   "execution_count": 32,
   "metadata": {},
   "outputs": [
    {
     "data": {
      "text/html": [
       "<div>\n",
       "<style>\n",
       "    .dataframe thead tr:only-child th {\n",
       "        text-align: right;\n",
       "    }\n",
       "\n",
       "    .dataframe thead th {\n",
       "        text-align: left;\n",
       "    }\n",
       "\n",
       "    .dataframe tbody tr th {\n",
       "        vertical-align: top;\n",
       "    }\n",
       "</style>\n",
       "<table border=\"1\" class=\"dataframe\">\n",
       "  <thead>\n",
       "    <tr style=\"text-align: right;\">\n",
       "      <th></th>\n",
       "      <th>city_code</th>\n",
       "      <th>date_block_num</th>\n",
       "      <th>date_cat_avg_item_cnt</th>\n",
       "      <th>date_cat_avg_item_price</th>\n",
       "      <th>date_cat_sum_orders</th>\n",
       "      <th>date_item_avg_item_cnt</th>\n",
       "      <th>date_item_avg_item_price</th>\n",
       "      <th>date_item_city_avg_item_cnt</th>\n",
       "      <th>date_item_sum_orders</th>\n",
       "      <th>date_shop_avg_item_cnt</th>\n",
       "      <th>date_shop_avg_item_price</th>\n",
       "      <th>date_shop_subtype_avg_item_cnt</th>\n",
       "      <th>date_shop_sum_orders</th>\n",
       "      <th>date_shop_type_avg_item_cnt</th>\n",
       "      <th>item_category_id</th>\n",
       "      <th>item_cnt_month</th>\n",
       "      <th>item_id</th>\n",
       "      <th>item_price</th>\n",
       "      <th>orders</th>\n",
       "      <th>shop_id</th>\n",
       "      <th>shop_item_avg_item_cnt</th>\n",
       "      <th>shop_item_avg_item_price</th>\n",
       "      <th>shop_item_sum_orders</th>\n",
       "      <th>subtype_code</th>\n",
       "      <th>type_code</th>\n",
       "      <th>month</th>\n",
       "      <th>last_month</th>\n",
       "    </tr>\n",
       "  </thead>\n",
       "  <tbody>\n",
       "    <tr>\n",
       "      <th>11127984</th>\n",
       "      <td>20</td>\n",
       "      <td>34</td>\n",
       "      <td>0.0</td>\n",
       "      <td>0.0</td>\n",
       "      <td>0.0</td>\n",
       "      <td>0.0</td>\n",
       "      <td>0.0</td>\n",
       "      <td>0.0</td>\n",
       "      <td>0.0</td>\n",
       "      <td>0.0</td>\n",
       "      <td>0.0</td>\n",
       "      <td>0.0</td>\n",
       "      <td>0.0</td>\n",
       "      <td>0.0</td>\n",
       "      <td>40</td>\n",
       "      <td>0.0</td>\n",
       "      <td>19889</td>\n",
       "      <td>0.0</td>\n",
       "      <td>0.0</td>\n",
       "      <td>45</td>\n",
       "      <td>0.0</td>\n",
       "      <td>0.0</td>\n",
       "      <td>0.0</td>\n",
       "      <td>4</td>\n",
       "      <td>11</td>\n",
       "      <td>11</td>\n",
       "      <td>16</td>\n",
       "    </tr>\n",
       "    <tr>\n",
       "      <th>11127985</th>\n",
       "      <td>20</td>\n",
       "      <td>34</td>\n",
       "      <td>0.0</td>\n",
       "      <td>0.0</td>\n",
       "      <td>0.0</td>\n",
       "      <td>0.0</td>\n",
       "      <td>0.0</td>\n",
       "      <td>0.0</td>\n",
       "      <td>0.0</td>\n",
       "      <td>0.0</td>\n",
       "      <td>0.0</td>\n",
       "      <td>0.0</td>\n",
       "      <td>0.0</td>\n",
       "      <td>0.0</td>\n",
       "      <td>72</td>\n",
       "      <td>0.0</td>\n",
       "      <td>20650</td>\n",
       "      <td>0.0</td>\n",
       "      <td>0.0</td>\n",
       "      <td>45</td>\n",
       "      <td>0.0</td>\n",
       "      <td>0.0</td>\n",
       "      <td>0.0</td>\n",
       "      <td>59</td>\n",
       "      <td>14</td>\n",
       "      <td>11</td>\n",
       "      <td>1</td>\n",
       "    </tr>\n",
       "    <tr>\n",
       "      <th>11127986</th>\n",
       "      <td>20</td>\n",
       "      <td>34</td>\n",
       "      <td>0.0</td>\n",
       "      <td>0.0</td>\n",
       "      <td>0.0</td>\n",
       "      <td>0.0</td>\n",
       "      <td>0.0</td>\n",
       "      <td>0.0</td>\n",
       "      <td>0.0</td>\n",
       "      <td>0.0</td>\n",
       "      <td>0.0</td>\n",
       "      <td>0.0</td>\n",
       "      <td>0.0</td>\n",
       "      <td>0.0</td>\n",
       "      <td>3</td>\n",
       "      <td>0.0</td>\n",
       "      <td>5665</td>\n",
       "      <td>0.0</td>\n",
       "      <td>0.0</td>\n",
       "      <td>45</td>\n",
       "      <td>0.0</td>\n",
       "      <td>0.0</td>\n",
       "      <td>0.0</td>\n",
       "      <td>11</td>\n",
       "      <td>1</td>\n",
       "      <td>11</td>\n",
       "      <td>1</td>\n",
       "    </tr>\n",
       "    <tr>\n",
       "      <th>11127987</th>\n",
       "      <td>20</td>\n",
       "      <td>34</td>\n",
       "      <td>0.0</td>\n",
       "      <td>0.0</td>\n",
       "      <td>0.0</td>\n",
       "      <td>0.0</td>\n",
       "      <td>0.0</td>\n",
       "      <td>0.0</td>\n",
       "      <td>0.0</td>\n",
       "      <td>0.0</td>\n",
       "      <td>0.0</td>\n",
       "      <td>0.0</td>\n",
       "      <td>0.0</td>\n",
       "      <td>0.0</td>\n",
       "      <td>37</td>\n",
       "      <td>0.0</td>\n",
       "      <td>9978</td>\n",
       "      <td>0.0</td>\n",
       "      <td>0.0</td>\n",
       "      <td>45</td>\n",
       "      <td>0.0</td>\n",
       "      <td>0.0</td>\n",
       "      <td>0.0</td>\n",
       "      <td>1</td>\n",
       "      <td>11</td>\n",
       "      <td>11</td>\n",
       "      <td>999</td>\n",
       "    </tr>\n",
       "    <tr>\n",
       "      <th>11127988</th>\n",
       "      <td>20</td>\n",
       "      <td>34</td>\n",
       "      <td>0.0</td>\n",
       "      <td>0.0</td>\n",
       "      <td>0.0</td>\n",
       "      <td>0.0</td>\n",
       "      <td>0.0</td>\n",
       "      <td>0.0</td>\n",
       "      <td>0.0</td>\n",
       "      <td>0.0</td>\n",
       "      <td>0.0</td>\n",
       "      <td>0.0</td>\n",
       "      <td>0.0</td>\n",
       "      <td>0.0</td>\n",
       "      <td>37</td>\n",
       "      <td>0.0</td>\n",
       "      <td>10767</td>\n",
       "      <td>0.0</td>\n",
       "      <td>0.0</td>\n",
       "      <td>45</td>\n",
       "      <td>0.0</td>\n",
       "      <td>0.0</td>\n",
       "      <td>0.0</td>\n",
       "      <td>1</td>\n",
       "      <td>11</td>\n",
       "      <td>11</td>\n",
       "      <td>999</td>\n",
       "    </tr>\n",
       "    <tr>\n",
       "      <th>11127989</th>\n",
       "      <td>20</td>\n",
       "      <td>34</td>\n",
       "      <td>0.0</td>\n",
       "      <td>0.0</td>\n",
       "      <td>0.0</td>\n",
       "      <td>0.0</td>\n",
       "      <td>0.0</td>\n",
       "      <td>0.0</td>\n",
       "      <td>0.0</td>\n",
       "      <td>0.0</td>\n",
       "      <td>0.0</td>\n",
       "      <td>0.0</td>\n",
       "      <td>0.0</td>\n",
       "      <td>0.0</td>\n",
       "      <td>40</td>\n",
       "      <td>0.0</td>\n",
       "      <td>14443</td>\n",
       "      <td>0.0</td>\n",
       "      <td>0.0</td>\n",
       "      <td>45</td>\n",
       "      <td>0.0</td>\n",
       "      <td>0.0</td>\n",
       "      <td>0.0</td>\n",
       "      <td>4</td>\n",
       "      <td>11</td>\n",
       "      <td>11</td>\n",
       "      <td>4</td>\n",
       "    </tr>\n",
       "    <tr>\n",
       "      <th>11127990</th>\n",
       "      <td>20</td>\n",
       "      <td>34</td>\n",
       "      <td>0.0</td>\n",
       "      <td>0.0</td>\n",
       "      <td>0.0</td>\n",
       "      <td>0.0</td>\n",
       "      <td>0.0</td>\n",
       "      <td>0.0</td>\n",
       "      <td>0.0</td>\n",
       "      <td>0.0</td>\n",
       "      <td>0.0</td>\n",
       "      <td>0.0</td>\n",
       "      <td>0.0</td>\n",
       "      <td>0.0</td>\n",
       "      <td>40</td>\n",
       "      <td>0.0</td>\n",
       "      <td>14341</td>\n",
       "      <td>0.0</td>\n",
       "      <td>0.0</td>\n",
       "      <td>45</td>\n",
       "      <td>0.0</td>\n",
       "      <td>0.0</td>\n",
       "      <td>0.0</td>\n",
       "      <td>4</td>\n",
       "      <td>11</td>\n",
       "      <td>11</td>\n",
       "      <td>999</td>\n",
       "    </tr>\n",
       "    <tr>\n",
       "      <th>11127991</th>\n",
       "      <td>20</td>\n",
       "      <td>34</td>\n",
       "      <td>0.0</td>\n",
       "      <td>0.0</td>\n",
       "      <td>0.0</td>\n",
       "      <td>0.0</td>\n",
       "      <td>0.0</td>\n",
       "      <td>0.0</td>\n",
       "      <td>0.0</td>\n",
       "      <td>0.0</td>\n",
       "      <td>0.0</td>\n",
       "      <td>0.0</td>\n",
       "      <td>0.0</td>\n",
       "      <td>0.0</td>\n",
       "      <td>19</td>\n",
       "      <td>0.0</td>\n",
       "      <td>5401</td>\n",
       "      <td>0.0</td>\n",
       "      <td>0.0</td>\n",
       "      <td>45</td>\n",
       "      <td>0.0</td>\n",
       "      <td>0.0</td>\n",
       "      <td>0.0</td>\n",
       "      <td>10</td>\n",
       "      <td>5</td>\n",
       "      <td>11</td>\n",
       "      <td>1</td>\n",
       "    </tr>\n",
       "    <tr>\n",
       "      <th>11127992</th>\n",
       "      <td>20</td>\n",
       "      <td>34</td>\n",
       "      <td>0.0</td>\n",
       "      <td>0.0</td>\n",
       "      <td>0.0</td>\n",
       "      <td>0.0</td>\n",
       "      <td>0.0</td>\n",
       "      <td>0.0</td>\n",
       "      <td>0.0</td>\n",
       "      <td>0.0</td>\n",
       "      <td>0.0</td>\n",
       "      <td>0.0</td>\n",
       "      <td>0.0</td>\n",
       "      <td>0.0</td>\n",
       "      <td>40</td>\n",
       "      <td>0.0</td>\n",
       "      <td>9500</td>\n",
       "      <td>0.0</td>\n",
       "      <td>0.0</td>\n",
       "      <td>45</td>\n",
       "      <td>0.0</td>\n",
       "      <td>0.0</td>\n",
       "      <td>0.0</td>\n",
       "      <td>4</td>\n",
       "      <td>11</td>\n",
       "      <td>11</td>\n",
       "      <td>999</td>\n",
       "    </tr>\n",
       "    <tr>\n",
       "      <th>11127993</th>\n",
       "      <td>20</td>\n",
       "      <td>34</td>\n",
       "      <td>0.0</td>\n",
       "      <td>0.0</td>\n",
       "      <td>0.0</td>\n",
       "      <td>0.0</td>\n",
       "      <td>0.0</td>\n",
       "      <td>0.0</td>\n",
       "      <td>0.0</td>\n",
       "      <td>0.0</td>\n",
       "      <td>0.0</td>\n",
       "      <td>0.0</td>\n",
       "      <td>0.0</td>\n",
       "      <td>0.0</td>\n",
       "      <td>64</td>\n",
       "      <td>0.0</td>\n",
       "      <td>16007</td>\n",
       "      <td>0.0</td>\n",
       "      <td>0.0</td>\n",
       "      <td>45</td>\n",
       "      <td>0.0</td>\n",
       "      <td>0.0</td>\n",
       "      <td>0.0</td>\n",
       "      <td>42</td>\n",
       "      <td>14</td>\n",
       "      <td>11</td>\n",
       "      <td>999</td>\n",
       "    </tr>\n",
       "    <tr>\n",
       "      <th>11127994</th>\n",
       "      <td>20</td>\n",
       "      <td>34</td>\n",
       "      <td>0.0</td>\n",
       "      <td>0.0</td>\n",
       "      <td>0.0</td>\n",
       "      <td>0.0</td>\n",
       "      <td>0.0</td>\n",
       "      <td>0.0</td>\n",
       "      <td>0.0</td>\n",
       "      <td>0.0</td>\n",
       "      <td>0.0</td>\n",
       "      <td>0.0</td>\n",
       "      <td>0.0</td>\n",
       "      <td>0.0</td>\n",
       "      <td>55</td>\n",
       "      <td>0.0</td>\n",
       "      <td>3280</td>\n",
       "      <td>0.0</td>\n",
       "      <td>0.0</td>\n",
       "      <td>45</td>\n",
       "      <td>0.0</td>\n",
       "      <td>0.0</td>\n",
       "      <td>0.0</td>\n",
       "      <td>2</td>\n",
       "      <td>13</td>\n",
       "      <td>11</td>\n",
       "      <td>1</td>\n",
       "    </tr>\n",
       "    <tr>\n",
       "      <th>11127995</th>\n",
       "      <td>20</td>\n",
       "      <td>34</td>\n",
       "      <td>0.0</td>\n",
       "      <td>0.0</td>\n",
       "      <td>0.0</td>\n",
       "      <td>0.0</td>\n",
       "      <td>0.0</td>\n",
       "      <td>0.0</td>\n",
       "      <td>0.0</td>\n",
       "      <td>0.0</td>\n",
       "      <td>0.0</td>\n",
       "      <td>0.0</td>\n",
       "      <td>0.0</td>\n",
       "      <td>0.0</td>\n",
       "      <td>22</td>\n",
       "      <td>0.0</td>\n",
       "      <td>4393</td>\n",
       "      <td>0.0</td>\n",
       "      <td>0.0</td>\n",
       "      <td>45</td>\n",
       "      <td>0.0</td>\n",
       "      <td>0.0</td>\n",
       "      <td>0.0</td>\n",
       "      <td>14</td>\n",
       "      <td>5</td>\n",
       "      <td>11</td>\n",
       "      <td>1</td>\n",
       "    </tr>\n",
       "    <tr>\n",
       "      <th>11127996</th>\n",
       "      <td>20</td>\n",
       "      <td>34</td>\n",
       "      <td>0.0</td>\n",
       "      <td>0.0</td>\n",
       "      <td>0.0</td>\n",
       "      <td>0.0</td>\n",
       "      <td>0.0</td>\n",
       "      <td>0.0</td>\n",
       "      <td>0.0</td>\n",
       "      <td>0.0</td>\n",
       "      <td>0.0</td>\n",
       "      <td>0.0</td>\n",
       "      <td>0.0</td>\n",
       "      <td>0.0</td>\n",
       "      <td>22</td>\n",
       "      <td>0.0</td>\n",
       "      <td>4352</td>\n",
       "      <td>0.0</td>\n",
       "      <td>0.0</td>\n",
       "      <td>45</td>\n",
       "      <td>0.0</td>\n",
       "      <td>0.0</td>\n",
       "      <td>0.0</td>\n",
       "      <td>14</td>\n",
       "      <td>5</td>\n",
       "      <td>11</td>\n",
       "      <td>1</td>\n",
       "    </tr>\n",
       "    <tr>\n",
       "      <th>11127997</th>\n",
       "      <td>20</td>\n",
       "      <td>34</td>\n",
       "      <td>0.0</td>\n",
       "      <td>0.0</td>\n",
       "      <td>0.0</td>\n",
       "      <td>0.0</td>\n",
       "      <td>0.0</td>\n",
       "      <td>0.0</td>\n",
       "      <td>0.0</td>\n",
       "      <td>0.0</td>\n",
       "      <td>0.0</td>\n",
       "      <td>0.0</td>\n",
       "      <td>0.0</td>\n",
       "      <td>0.0</td>\n",
       "      <td>70</td>\n",
       "      <td>0.0</td>\n",
       "      <td>18049</td>\n",
       "      <td>0.0</td>\n",
       "      <td>0.0</td>\n",
       "      <td>45</td>\n",
       "      <td>0.0</td>\n",
       "      <td>0.0</td>\n",
       "      <td>0.0</td>\n",
       "      <td>57</td>\n",
       "      <td>14</td>\n",
       "      <td>11</td>\n",
       "      <td>1</td>\n",
       "    </tr>\n",
       "    <tr>\n",
       "      <th>11127998</th>\n",
       "      <td>20</td>\n",
       "      <td>34</td>\n",
       "      <td>0.0</td>\n",
       "      <td>0.0</td>\n",
       "      <td>0.0</td>\n",
       "      <td>0.0</td>\n",
       "      <td>0.0</td>\n",
       "      <td>0.0</td>\n",
       "      <td>0.0</td>\n",
       "      <td>0.0</td>\n",
       "      <td>0.0</td>\n",
       "      <td>0.0</td>\n",
       "      <td>0.0</td>\n",
       "      <td>0.0</td>\n",
       "      <td>70</td>\n",
       "      <td>0.0</td>\n",
       "      <td>18027</td>\n",
       "      <td>0.0</td>\n",
       "      <td>0.0</td>\n",
       "      <td>45</td>\n",
       "      <td>0.0</td>\n",
       "      <td>0.0</td>\n",
       "      <td>0.0</td>\n",
       "      <td>57</td>\n",
       "      <td>14</td>\n",
       "      <td>11</td>\n",
       "      <td>999</td>\n",
       "    </tr>\n",
       "    <tr>\n",
       "      <th>11127999</th>\n",
       "      <td>20</td>\n",
       "      <td>34</td>\n",
       "      <td>0.0</td>\n",
       "      <td>0.0</td>\n",
       "      <td>0.0</td>\n",
       "      <td>0.0</td>\n",
       "      <td>0.0</td>\n",
       "      <td>0.0</td>\n",
       "      <td>0.0</td>\n",
       "      <td>0.0</td>\n",
       "      <td>0.0</td>\n",
       "      <td>0.0</td>\n",
       "      <td>0.0</td>\n",
       "      <td>0.0</td>\n",
       "      <td>55</td>\n",
       "      <td>0.0</td>\n",
       "      <td>18454</td>\n",
       "      <td>0.0</td>\n",
       "      <td>0.0</td>\n",
       "      <td>45</td>\n",
       "      <td>0.0</td>\n",
       "      <td>0.0</td>\n",
       "      <td>0.0</td>\n",
       "      <td>2</td>\n",
       "      <td>13</td>\n",
       "      <td>11</td>\n",
       "      <td>1</td>\n",
       "    </tr>\n",
       "    <tr>\n",
       "      <th>11128000</th>\n",
       "      <td>20</td>\n",
       "      <td>34</td>\n",
       "      <td>0.0</td>\n",
       "      <td>0.0</td>\n",
       "      <td>0.0</td>\n",
       "      <td>0.0</td>\n",
       "      <td>0.0</td>\n",
       "      <td>0.0</td>\n",
       "      <td>0.0</td>\n",
       "      <td>0.0</td>\n",
       "      <td>0.0</td>\n",
       "      <td>0.0</td>\n",
       "      <td>0.0</td>\n",
       "      <td>0.0</td>\n",
       "      <td>64</td>\n",
       "      <td>0.0</td>\n",
       "      <td>16188</td>\n",
       "      <td>0.0</td>\n",
       "      <td>0.0</td>\n",
       "      <td>45</td>\n",
       "      <td>0.0</td>\n",
       "      <td>0.0</td>\n",
       "      <td>0.0</td>\n",
       "      <td>42</td>\n",
       "      <td>14</td>\n",
       "      <td>11</td>\n",
       "      <td>999</td>\n",
       "    </tr>\n",
       "    <tr>\n",
       "      <th>11128001</th>\n",
       "      <td>20</td>\n",
       "      <td>34</td>\n",
       "      <td>0.0</td>\n",
       "      <td>0.0</td>\n",
       "      <td>0.0</td>\n",
       "      <td>0.0</td>\n",
       "      <td>0.0</td>\n",
       "      <td>0.0</td>\n",
       "      <td>0.0</td>\n",
       "      <td>0.0</td>\n",
       "      <td>0.0</td>\n",
       "      <td>0.0</td>\n",
       "      <td>0.0</td>\n",
       "      <td>0.0</td>\n",
       "      <td>55</td>\n",
       "      <td>0.0</td>\n",
       "      <td>15757</td>\n",
       "      <td>0.0</td>\n",
       "      <td>0.0</td>\n",
       "      <td>45</td>\n",
       "      <td>0.0</td>\n",
       "      <td>0.0</td>\n",
       "      <td>0.0</td>\n",
       "      <td>2</td>\n",
       "      <td>13</td>\n",
       "      <td>11</td>\n",
       "      <td>1</td>\n",
       "    </tr>\n",
       "    <tr>\n",
       "      <th>11128002</th>\n",
       "      <td>20</td>\n",
       "      <td>34</td>\n",
       "      <td>0.0</td>\n",
       "      <td>0.0</td>\n",
       "      <td>0.0</td>\n",
       "      <td>0.0</td>\n",
       "      <td>0.0</td>\n",
       "      <td>0.0</td>\n",
       "      <td>0.0</td>\n",
       "      <td>0.0</td>\n",
       "      <td>0.0</td>\n",
       "      <td>0.0</td>\n",
       "      <td>0.0</td>\n",
       "      <td>0.0</td>\n",
       "      <td>40</td>\n",
       "      <td>0.0</td>\n",
       "      <td>19648</td>\n",
       "      <td>0.0</td>\n",
       "      <td>0.0</td>\n",
       "      <td>45</td>\n",
       "      <td>0.0</td>\n",
       "      <td>0.0</td>\n",
       "      <td>0.0</td>\n",
       "      <td>4</td>\n",
       "      <td>11</td>\n",
       "      <td>11</td>\n",
       "      <td>999</td>\n",
       "    </tr>\n",
       "    <tr>\n",
       "      <th>11128003</th>\n",
       "      <td>20</td>\n",
       "      <td>34</td>\n",
       "      <td>0.0</td>\n",
       "      <td>0.0</td>\n",
       "      <td>0.0</td>\n",
       "      <td>0.0</td>\n",
       "      <td>0.0</td>\n",
       "      <td>0.0</td>\n",
       "      <td>0.0</td>\n",
       "      <td>0.0</td>\n",
       "      <td>0.0</td>\n",
       "      <td>0.0</td>\n",
       "      <td>0.0</td>\n",
       "      <td>0.0</td>\n",
       "      <td>37</td>\n",
       "      <td>0.0</td>\n",
       "      <td>969</td>\n",
       "      <td>0.0</td>\n",
       "      <td>0.0</td>\n",
       "      <td>45</td>\n",
       "      <td>0.0</td>\n",
       "      <td>0.0</td>\n",
       "      <td>0.0</td>\n",
       "      <td>1</td>\n",
       "      <td>11</td>\n",
       "      <td>11</td>\n",
       "      <td>1</td>\n",
       "    </tr>\n",
       "  </tbody>\n",
       "</table>\n",
       "</div>"
      ],
      "text/plain": [
       "          city_code  date_block_num  date_cat_avg_item_cnt  \\\n",
       "11127984         20              34                    0.0   \n",
       "11127985         20              34                    0.0   \n",
       "11127986         20              34                    0.0   \n",
       "11127987         20              34                    0.0   \n",
       "11127988         20              34                    0.0   \n",
       "11127989         20              34                    0.0   \n",
       "11127990         20              34                    0.0   \n",
       "11127991         20              34                    0.0   \n",
       "11127992         20              34                    0.0   \n",
       "11127993         20              34                    0.0   \n",
       "11127994         20              34                    0.0   \n",
       "11127995         20              34                    0.0   \n",
       "11127996         20              34                    0.0   \n",
       "11127997         20              34                    0.0   \n",
       "11127998         20              34                    0.0   \n",
       "11127999         20              34                    0.0   \n",
       "11128000         20              34                    0.0   \n",
       "11128001         20              34                    0.0   \n",
       "11128002         20              34                    0.0   \n",
       "11128003         20              34                    0.0   \n",
       "\n",
       "          date_cat_avg_item_price  date_cat_sum_orders  \\\n",
       "11127984                      0.0                  0.0   \n",
       "11127985                      0.0                  0.0   \n",
       "11127986                      0.0                  0.0   \n",
       "11127987                      0.0                  0.0   \n",
       "11127988                      0.0                  0.0   \n",
       "11127989                      0.0                  0.0   \n",
       "11127990                      0.0                  0.0   \n",
       "11127991                      0.0                  0.0   \n",
       "11127992                      0.0                  0.0   \n",
       "11127993                      0.0                  0.0   \n",
       "11127994                      0.0                  0.0   \n",
       "11127995                      0.0                  0.0   \n",
       "11127996                      0.0                  0.0   \n",
       "11127997                      0.0                  0.0   \n",
       "11127998                      0.0                  0.0   \n",
       "11127999                      0.0                  0.0   \n",
       "11128000                      0.0                  0.0   \n",
       "11128001                      0.0                  0.0   \n",
       "11128002                      0.0                  0.0   \n",
       "11128003                      0.0                  0.0   \n",
       "\n",
       "          date_item_avg_item_cnt  date_item_avg_item_price  \\\n",
       "11127984                     0.0                       0.0   \n",
       "11127985                     0.0                       0.0   \n",
       "11127986                     0.0                       0.0   \n",
       "11127987                     0.0                       0.0   \n",
       "11127988                     0.0                       0.0   \n",
       "11127989                     0.0                       0.0   \n",
       "11127990                     0.0                       0.0   \n",
       "11127991                     0.0                       0.0   \n",
       "11127992                     0.0                       0.0   \n",
       "11127993                     0.0                       0.0   \n",
       "11127994                     0.0                       0.0   \n",
       "11127995                     0.0                       0.0   \n",
       "11127996                     0.0                       0.0   \n",
       "11127997                     0.0                       0.0   \n",
       "11127998                     0.0                       0.0   \n",
       "11127999                     0.0                       0.0   \n",
       "11128000                     0.0                       0.0   \n",
       "11128001                     0.0                       0.0   \n",
       "11128002                     0.0                       0.0   \n",
       "11128003                     0.0                       0.0   \n",
       "\n",
       "          date_item_city_avg_item_cnt  date_item_sum_orders  \\\n",
       "11127984                          0.0                   0.0   \n",
       "11127985                          0.0                   0.0   \n",
       "11127986                          0.0                   0.0   \n",
       "11127987                          0.0                   0.0   \n",
       "11127988                          0.0                   0.0   \n",
       "11127989                          0.0                   0.0   \n",
       "11127990                          0.0                   0.0   \n",
       "11127991                          0.0                   0.0   \n",
       "11127992                          0.0                   0.0   \n",
       "11127993                          0.0                   0.0   \n",
       "11127994                          0.0                   0.0   \n",
       "11127995                          0.0                   0.0   \n",
       "11127996                          0.0                   0.0   \n",
       "11127997                          0.0                   0.0   \n",
       "11127998                          0.0                   0.0   \n",
       "11127999                          0.0                   0.0   \n",
       "11128000                          0.0                   0.0   \n",
       "11128001                          0.0                   0.0   \n",
       "11128002                          0.0                   0.0   \n",
       "11128003                          0.0                   0.0   \n",
       "\n",
       "          date_shop_avg_item_cnt  date_shop_avg_item_price  \\\n",
       "11127984                     0.0                       0.0   \n",
       "11127985                     0.0                       0.0   \n",
       "11127986                     0.0                       0.0   \n",
       "11127987                     0.0                       0.0   \n",
       "11127988                     0.0                       0.0   \n",
       "11127989                     0.0                       0.0   \n",
       "11127990                     0.0                       0.0   \n",
       "11127991                     0.0                       0.0   \n",
       "11127992                     0.0                       0.0   \n",
       "11127993                     0.0                       0.0   \n",
       "11127994                     0.0                       0.0   \n",
       "11127995                     0.0                       0.0   \n",
       "11127996                     0.0                       0.0   \n",
       "11127997                     0.0                       0.0   \n",
       "11127998                     0.0                       0.0   \n",
       "11127999                     0.0                       0.0   \n",
       "11128000                     0.0                       0.0   \n",
       "11128001                     0.0                       0.0   \n",
       "11128002                     0.0                       0.0   \n",
       "11128003                     0.0                       0.0   \n",
       "\n",
       "          date_shop_subtype_avg_item_cnt  date_shop_sum_orders  \\\n",
       "11127984                             0.0                   0.0   \n",
       "11127985                             0.0                   0.0   \n",
       "11127986                             0.0                   0.0   \n",
       "11127987                             0.0                   0.0   \n",
       "11127988                             0.0                   0.0   \n",
       "11127989                             0.0                   0.0   \n",
       "11127990                             0.0                   0.0   \n",
       "11127991                             0.0                   0.0   \n",
       "11127992                             0.0                   0.0   \n",
       "11127993                             0.0                   0.0   \n",
       "11127994                             0.0                   0.0   \n",
       "11127995                             0.0                   0.0   \n",
       "11127996                             0.0                   0.0   \n",
       "11127997                             0.0                   0.0   \n",
       "11127998                             0.0                   0.0   \n",
       "11127999                             0.0                   0.0   \n",
       "11128000                             0.0                   0.0   \n",
       "11128001                             0.0                   0.0   \n",
       "11128002                             0.0                   0.0   \n",
       "11128003                             0.0                   0.0   \n",
       "\n",
       "          date_shop_type_avg_item_cnt  item_category_id  item_cnt_month  \\\n",
       "11127984                          0.0                40             0.0   \n",
       "11127985                          0.0                72             0.0   \n",
       "11127986                          0.0                 3             0.0   \n",
       "11127987                          0.0                37             0.0   \n",
       "11127988                          0.0                37             0.0   \n",
       "11127989                          0.0                40             0.0   \n",
       "11127990                          0.0                40             0.0   \n",
       "11127991                          0.0                19             0.0   \n",
       "11127992                          0.0                40             0.0   \n",
       "11127993                          0.0                64             0.0   \n",
       "11127994                          0.0                55             0.0   \n",
       "11127995                          0.0                22             0.0   \n",
       "11127996                          0.0                22             0.0   \n",
       "11127997                          0.0                70             0.0   \n",
       "11127998                          0.0                70             0.0   \n",
       "11127999                          0.0                55             0.0   \n",
       "11128000                          0.0                64             0.0   \n",
       "11128001                          0.0                55             0.0   \n",
       "11128002                          0.0                40             0.0   \n",
       "11128003                          0.0                37             0.0   \n",
       "\n",
       "          item_id  item_price  orders  shop_id  shop_item_avg_item_cnt  \\\n",
       "11127984    19889         0.0     0.0       45                     0.0   \n",
       "11127985    20650         0.0     0.0       45                     0.0   \n",
       "11127986     5665         0.0     0.0       45                     0.0   \n",
       "11127987     9978         0.0     0.0       45                     0.0   \n",
       "11127988    10767         0.0     0.0       45                     0.0   \n",
       "11127989    14443         0.0     0.0       45                     0.0   \n",
       "11127990    14341         0.0     0.0       45                     0.0   \n",
       "11127991     5401         0.0     0.0       45                     0.0   \n",
       "11127992     9500         0.0     0.0       45                     0.0   \n",
       "11127993    16007         0.0     0.0       45                     0.0   \n",
       "11127994     3280         0.0     0.0       45                     0.0   \n",
       "11127995     4393         0.0     0.0       45                     0.0   \n",
       "11127996     4352         0.0     0.0       45                     0.0   \n",
       "11127997    18049         0.0     0.0       45                     0.0   \n",
       "11127998    18027         0.0     0.0       45                     0.0   \n",
       "11127999    18454         0.0     0.0       45                     0.0   \n",
       "11128000    16188         0.0     0.0       45                     0.0   \n",
       "11128001    15757         0.0     0.0       45                     0.0   \n",
       "11128002    19648         0.0     0.0       45                     0.0   \n",
       "11128003      969         0.0     0.0       45                     0.0   \n",
       "\n",
       "          shop_item_avg_item_price  shop_item_sum_orders  subtype_code  \\\n",
       "11127984                       0.0                   0.0             4   \n",
       "11127985                       0.0                   0.0            59   \n",
       "11127986                       0.0                   0.0            11   \n",
       "11127987                       0.0                   0.0             1   \n",
       "11127988                       0.0                   0.0             1   \n",
       "11127989                       0.0                   0.0             4   \n",
       "11127990                       0.0                   0.0             4   \n",
       "11127991                       0.0                   0.0            10   \n",
       "11127992                       0.0                   0.0             4   \n",
       "11127993                       0.0                   0.0            42   \n",
       "11127994                       0.0                   0.0             2   \n",
       "11127995                       0.0                   0.0            14   \n",
       "11127996                       0.0                   0.0            14   \n",
       "11127997                       0.0                   0.0            57   \n",
       "11127998                       0.0                   0.0            57   \n",
       "11127999                       0.0                   0.0             2   \n",
       "11128000                       0.0                   0.0            42   \n",
       "11128001                       0.0                   0.0             2   \n",
       "11128002                       0.0                   0.0             4   \n",
       "11128003                       0.0                   0.0             1   \n",
       "\n",
       "          type_code  month  last_month  \n",
       "11127984         11     11          16  \n",
       "11127985         14     11           1  \n",
       "11127986          1     11           1  \n",
       "11127987         11     11         999  \n",
       "11127988         11     11         999  \n",
       "11127989         11     11           4  \n",
       "11127990         11     11         999  \n",
       "11127991          5     11           1  \n",
       "11127992         11     11         999  \n",
       "11127993         14     11         999  \n",
       "11127994         13     11           1  \n",
       "11127995          5     11           1  \n",
       "11127996          5     11           1  \n",
       "11127997         14     11           1  \n",
       "11127998         14     11         999  \n",
       "11127999         13     11           1  \n",
       "11128000         14     11         999  \n",
       "11128001         13     11           1  \n",
       "11128002         11     11         999  \n",
       "11128003         11     11           1  "
      ]
     },
     "execution_count": 32,
     "metadata": {},
     "output_type": "execute_result"
    }
   ],
   "source": [
    "matrix.tail(20)"
   ]
  },
  {
   "cell_type": "markdown",
   "metadata": {},
   "source": [
    "## File"
   ]
  },
  {
   "cell_type": "code",
   "execution_count": null,
   "metadata": {
    "collapsed": true
   },
   "outputs": [],
   "source": [
    "data.to_pickle('matrix.pickle')"
   ]
  },
  {
   "cell_type": "code",
   "execution_count": null,
   "metadata": {
    "collapsed": true
   },
   "outputs": [],
   "source": [
    "data.info()"
   ]
  }
 ],
 "metadata": {
  "kernelspec": {
   "display_name": "Python 3",
   "language": "python",
   "name": "python3"
  },
  "language_info": {
   "codemirror_mode": {
    "name": "ipython",
    "version": 3
   },
   "file_extension": ".py",
   "mimetype": "text/x-python",
   "name": "python",
   "nbconvert_exporter": "python",
   "pygments_lexer": "ipython3",
   "version": "3.5.4"
  }
 },
 "nbformat": 4,
 "nbformat_minor": 1
}
