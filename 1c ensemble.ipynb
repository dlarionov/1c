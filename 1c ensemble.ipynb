{
 "cells": [
  {
   "cell_type": "markdown",
   "metadata": {},
   "source": [
    "# Ensemble"
   ]
  },
  {
   "cell_type": "code",
   "execution_count": 1,
   "metadata": {
    "collapsed": true
   },
   "outputs": [],
   "source": [
    "import numpy as np\n",
    "import pandas as pd\n",
    "import gc\n",
    "import time\n",
    "\n",
    "from sklearn.linear_model import LinearRegression\n",
    "from sklearn.metrics import mean_squared_error"
   ]
  },
  {
   "cell_type": "markdown",
   "metadata": {},
   "source": [
    "I use stacking with predictions for validation set and test sets. Predictions for validation set becomes X_train, predictions for the test set becomes X_test and Y_train is the target for the validation set."
   ]
  },
  {
   "cell_type": "markdown",
   "metadata": {},
   "source": [
    "My classifiers:\n",
    "* xgb (15 depth) LB: 0.96734\n",
    "* xgb (12 depth) LB: 0.96676\n",
    "* xgb (7 depth) LB: 0.98534\n",
    "* catboost LB: 1.00913\n",
    "* random_forest LB: 1.08290"
   ]
  },
  {
   "cell_type": "code",
   "execution_count": 2,
   "metadata": {
    "collapsed": true
   },
   "outputs": [],
   "source": [
    "X_train = np.column_stack((\n",
    "    pd.read_pickle('xgb15/xgb_train.pickle'), \n",
    "    pd.read_pickle('xgb12/xgb_train.pickle'),\n",
    "    pd.read_pickle('xgb7/xgb_train.pickle'),\n",
    "    pd.read_pickle('cat/cat_train.pickle'),\n",
    "    pd.read_pickle('rf/rf_train.pickle')\n",
    "))\n",
    "X_test = np.column_stack((\n",
    "    pd.read_pickle('xgb15/xgb_test.pickle'), \n",
    "    pd.read_pickle('xgb12/xgb_test.pickle'),\n",
    "    pd.read_pickle('xgb7/xgb_test.pickle'),\n",
    "    pd.read_pickle('cat/cat_test.pickle'),\n",
    "    pd.read_pickle('rf/rf_test.pickle')\n",
    "))"
   ]
  },
  {
   "cell_type": "markdown",
   "metadata": {},
   "source": [
    "Load feature matrix to generate Y_train."
   ]
  },
  {
   "cell_type": "code",
   "execution_count": 3,
   "metadata": {
    "collapsed": true
   },
   "outputs": [],
   "source": [
    "data = pd.read_pickle('feature_matrix.pickle')\n",
    "Y_train = data[data.date_block_num == 33]['item_cnt_month']"
   ]
  },
  {
   "cell_type": "code",
   "execution_count": 4,
   "metadata": {
    "collapsed": true
   },
   "outputs": [],
   "source": [
    "del data\n",
    "gc.collect();"
   ]
  },
  {
   "cell_type": "code",
   "execution_count": 5,
   "metadata": {},
   "outputs": [
    {
     "data": {
      "text/plain": [
       "0.05100297927856445"
      ]
     },
     "execution_count": 5,
     "metadata": {},
     "output_type": "execute_result"
    }
   ],
   "source": [
    "ts = time.time()\n",
    "meta_model = LinearRegression()\n",
    "meta_model.fit(X_train, Y_train)\n",
    "Y_test = meta_model.predict(X_test).clip(0,20)\n",
    "time.time() - ts"
   ]
  },
  {
   "cell_type": "code",
   "execution_count": 6,
   "metadata": {},
   "outputs": [
    {
     "data": {
      "text/plain": [
       "0.73292181114528809"
      ]
     },
     "execution_count": 6,
     "metadata": {},
     "output_type": "execute_result"
    }
   ],
   "source": [
    "Y_pred = meta_model.predict(X_train).clip(0,20)\n",
    "mean_squared_error(Y_pred, Y_train)"
   ]
  },
  {
   "cell_type": "code",
   "execution_count": 7,
   "metadata": {
    "collapsed": true
   },
   "outputs": [],
   "source": [
    "test = pd.read_csv('test.csv.gz', compression='gzip').set_index('ID')\n",
    "submission = pd.DataFrame({\n",
    "    \"ID\": test.index, \n",
    "    \"item_cnt_month\": Y_test\n",
    "})\n",
    "submission.to_csv('ensemble_submission.csv', index=False)"
   ]
  },
  {
   "cell_type": "markdown",
   "metadata": {},
   "source": [
    "LB: 0.96290"
   ]
  },
  {
   "cell_type": "code",
   "execution_count": null,
   "metadata": {
    "collapsed": true
   },
   "outputs": [],
   "source": []
  }
 ],
 "metadata": {
  "kernelspec": {
   "display_name": "Python 3",
   "language": "python",
   "name": "python3"
  },
  "language_info": {
   "codemirror_mode": {
    "name": "ipython",
    "version": 3
   },
   "file_extension": ".py",
   "mimetype": "text/x-python",
   "name": "python",
   "nbconvert_exporter": "python",
   "pygments_lexer": "ipython3",
   "version": "3.5.4"
  }
 },
 "nbformat": 4,
 "nbformat_minor": 2
}
