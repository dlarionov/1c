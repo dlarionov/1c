{
 "cells": [
  {
   "cell_type": "markdown",
   "metadata": {},
   "source": [
    "# Ensemble"
   ]
  },
  {
   "cell_type": "code",
   "execution_count": null,
   "metadata": {
    "collapsed": true
   },
   "outputs": [],
   "source": [
    "import numpy as np\n",
    "import pandas as pd\n",
    "import gc\n",
    "import time\n",
    "\n",
    "from sklearn.linear_model import LinearRegression\n",
    "from sklearn.metrics import mean_squared_error"
   ]
  },
  {
   "cell_type": "markdown",
   "metadata": {},
   "source": [
    "I use stacking with predictions for the validation set for all the models. Load the pedictions and combine them to the new feature matrix. Do the same for the test predictions."
   ]
  },
  {
   "cell_type": "code",
   "execution_count": null,
   "metadata": {},
   "outputs": [],
   "source": [
    "knn_train = pd.read_pickle('knn_train.pickle')\n",
    "rf_train = pd.read_pickle('rf_train.pickle')\n",
    "xgb_train = pd.read_pickle('xgb_train.pickle')\n",
    "cat_train = pd.read_pickle('cat_train.pickle')\n",
    "knn_test = pd.read_pickle('knn_test.pickle')\n",
    "rf_test = pd.read_pickle('rf_test.pickle')\n",
    "xgb_test = pd.read_pickle('xgb_test.pickle')\n",
    "cat_test = pd.read_pickle('cat_test.pickle')"
   ]
  },
  {
   "cell_type": "code",
   "execution_count": null,
   "metadata": {
    "collapsed": true
   },
   "outputs": [],
   "source": [
    "X_train = np.column_stack((knn_train, rf_train, xgb_train, cat_train))\n",
    "X_test = np.column_stack((knn_test, rf_test, xgb_test, cat_test))"
   ]
  },
  {
   "cell_type": "code",
   "execution_count": null,
   "metadata": {
    "collapsed": true
   },
   "outputs": [],
   "source": [
    "data = pd.read_pickle('matrix.pickle')\n",
    "Y_train = data[data.date_block_num == 33]['item_cnt_month']"
   ]
  },
  {
   "cell_type": "code",
   "execution_count": null,
   "metadata": {
    "collapsed": true
   },
   "outputs": [],
   "source": [
    "del data\n",
    "del knn_train\n",
    "del rf_train\n",
    "del xgb_train\n",
    "del cat_train\n",
    "del knn_test\n",
    "del rf_test \n",
    "del xgb_test\n",
    "del cat_test\n",
    "gc.collect();"
   ]
  },
  {
   "cell_type": "code",
   "execution_count": null,
   "metadata": {
    "collapsed": true
   },
   "outputs": [],
   "source": [
    "ts = time.time()\n",
    "meta_model = LinearRegression()\n",
    "meta_model.fit(X_train, Y_train)\n",
    "Y_test = meta_model.predict(X_test).clip(0,20)\n",
    "time.time() - ts"
   ]
  },
  {
   "cell_type": "code",
   "execution_count": null,
   "metadata": {
    "collapsed": true
   },
   "outputs": [],
   "source": [
    "test = pd.read_csv('test.csv.gz', compression='gzip').set_index('ID')\n",
    "submission = pd.DataFrame({\n",
    "    \"ID\": test.index, \n",
    "    \"item_cnt_month\": Y_test\n",
    "})\n",
    "submission.to_csv('ensemble_submission.csv', index=False)"
   ]
  }
 ],
 "metadata": {
  "kernelspec": {
   "display_name": "Python 3",
   "language": "python",
   "name": "python3"
  },
  "language_info": {
   "codemirror_mode": {
    "name": "ipython",
    "version": 3
   },
   "file_extension": ".py",
   "mimetype": "text/x-python",
   "name": "python",
   "nbconvert_exporter": "python",
   "pygments_lexer": "ipython3",
   "version": "3.5.4"
  }
 },
 "nbformat": 4,
 "nbformat_minor": 2
}
